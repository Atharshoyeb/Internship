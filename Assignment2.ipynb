{
  "nbformat": 4,
  "nbformat_minor": 0,
  "metadata": {
    "colab": {
      "provenance": [],
      "authorship_tag": "ABX9TyODj/KIdpOE1wBUHJMNxP5B",
      "include_colab_link": true
    },
    "kernelspec": {
      "name": "python3",
      "display_name": "Python 3"
    },
    "language_info": {
      "name": "python"
    }
  },
  "cells": [
    {
      "cell_type": "markdown",
      "metadata": {
        "id": "view-in-github",
        "colab_type": "text"
      },
      "source": [
        "<a href=\"https://colab.research.google.com/github/Atharshoyeb/Internship/blob/main/Assignment2.ipynb\" target=\"_parent\"><img src=\"https://colab.research.google.com/assets/colab-badge.svg\" alt=\"Open In Colab\"/></a>"
      ]
    },
    {
      "cell_type": "code",
      "execution_count": 29,
      "metadata": {
        "colab": {
          "base_uri": "https://localhost:8080/"
        },
        "id": "oGIj_rV8sMAH",
        "outputId": "749e7693-e695-46f3-a350-a24e0a30f14a"
      },
      "outputs": [
        {
          "output_type": "stream",
          "name": "stdout",
          "text": [
            "Input Text: Trying to remove, some charecters.\n",
            "Expected Output: Trying:to:remove::some:charecters:\n"
          ]
        }
      ],
      "source": [
        "def replace_chars(text):\n",
        "    remove_characters = text.replace(' ', ':').replace(',', ':').replace('.', ':')\n",
        "    return remove_characters\n",
        "\n",
        "\n",
        "input_text = 'Trying to remove, some charecters.'\n",
        "output_text = replace_chars(input_text)\n",
        "\n",
        "print(\"Input Text:\", input_text)\n",
        "print(\"Expected Output:\", output_text)\n"
      ]
    },
    {
      "cell_type": "code",
      "source": [
        "import pandas as pd\n",
        "import re\n",
        "\n",
        "#creating the data frame\n",
        "data = {'SUMMARY': ['hello, world!', 'XXXXX test', '123four, five:; six...']}\n",
        "df = pd.DataFrame(data)\n",
        "def just_text(text):\n",
        "    printing_text = re.sub(r'[^\\w\\s]', '', text)\n",
        "    return printing_text\n",
        "\n",
        "df['SUMMARY'] = df['SUMMARY'].apply(just_text)\n",
        "\n",
        "print(\"Expected output-\")\n",
        "print(df)\n"
      ],
      "metadata": {
        "colab": {
          "base_uri": "https://localhost:8080/"
        },
        "id": "20Pk8T9ysNYK",
        "outputId": "68541b8a-309f-4238-99f7-ecfb5e066e51"
      },
      "execution_count": 30,
      "outputs": [
        {
          "output_type": "stream",
          "name": "stdout",
          "text": [
            "Expected output-\n",
            "            SUMMARY\n",
            "0       hello world\n",
            "1        XXXXX test\n",
            "2  123four five six\n"
          ]
        }
      ]
    },
    {
      "cell_type": "code",
      "source": [
        "import re\n",
        "\n",
        "def find_long_words(text):\n",
        "    pattern = re.compile(r'\\b\\w{4,}\\b')\n",
        "    long_words = pattern.findall(text)\n",
        "    return long_words\n",
        "text = \"Testing if this function only returns words that are four words long\"\n",
        "long_words = find_long_words(text)\n",
        "print(\"Words that are 4 character long atlest:\", long_words)\n"
      ],
      "metadata": {
        "colab": {
          "base_uri": "https://localhost:8080/"
        },
        "id": "xlgW67HbsQuw",
        "outputId": "de39ac9c-532d-4000-dc1f-344216d5b84d"
      },
      "execution_count": 31,
      "outputs": [
        {
          "output_type": "stream",
          "name": "stdout",
          "text": [
            "Words that are 4 character long atlest: ['Testing', 'this', 'function', 'only', 'returns', 'words', 'that', 'four', 'words', 'long']\n"
          ]
        }
      ]
    },
    {
      "cell_type": "code",
      "source": [
        "import re\n",
        "\n",
        "def find_long_words(text):\n",
        "    pattern = re.compile(r'\\b\\w{3,5}\\b')\n",
        "    long_words = pattern.findall(text)\n",
        "    return long_words\n",
        "text = \"Testing if this function only returns words that are four words long\"\n",
        "long_words = find_long_words(text)\n",
        "print(\"Words that are in limit 3-5 :\", long_words)\n"
      ],
      "metadata": {
        "colab": {
          "base_uri": "https://localhost:8080/"
        },
        "id": "DL9jvrk4sUAO",
        "outputId": "36ed244c-e65d-432e-85c9-081ed9ba1c94"
      },
      "execution_count": 32,
      "outputs": [
        {
          "output_type": "stream",
          "name": "stdout",
          "text": [
            "Words that are in limit 3-5 : ['this', 'only', 'words', 'that', 'are', 'four', 'words', 'long']\n"
          ]
        }
      ]
    },
    {
      "cell_type": "code",
      "source": [
        "import re\n",
        "\n",
        "def remove_parentheses(strings):\n",
        "    pattern = re.compile(r'\\((.*?)\\)')\n",
        "    cleaned_strings = [pattern.sub('', string) for string in strings]\n",
        "    return cleaned_strings\n",
        "\n",
        "strings2 = [\"example (.com)\", \"hr@fliprobo (.com)\", \"github (.com)\", \"Hello (Data Science World)\", \"Data (Scientist)\"]\n",
        "\n",
        "cleaned_strings2 = remove_parentheses(strings2)\n",
        "\n",
        "print(\"Strings with parentheses removed:\", cleaned_strings2)\n"
      ],
      "metadata": {
        "colab": {
          "base_uri": "https://localhost:8080/"
        },
        "id": "XMeVTPoYsYfV",
        "outputId": "5cbb9fb8-cbee-4fc3-9405-f3e7d6cda426"
      },
      "execution_count": 33,
      "outputs": [
        {
          "output_type": "stream",
          "name": "stdout",
          "text": [
            "Strings with parentheses removed: ['example ', 'hr@fliprobo ', 'github ', 'Hello ', 'Data ']\n"
          ]
        }
      ]
    },
    {
      "cell_type": "code",
      "source": [
        "import re\n",
        "\n",
        "sample_text = \"ImportanceOfRegularExpressionsInPython\"\n",
        "\n",
        "uppercase_words = re.findall(r'[A-Z][^A-Z]*', sample_text)\n",
        "\n",
        "print(uppercase_words)\n"
      ],
      "metadata": {
        "colab": {
          "base_uri": "https://localhost:8080/"
        },
        "id": "s9F9Fjm30pRV",
        "outputId": "663a6e0d-82d6-42f5-a680-31218a86b420"
      },
      "execution_count": 34,
      "outputs": [
        {
          "output_type": "stream",
          "name": "stdout",
          "text": [
            "['Importance', 'Of', 'Regular', 'Expressions', 'In', 'Python']\n"
          ]
        }
      ]
    },
    {
      "cell_type": "code",
      "source": [
        "import re\n",
        "\n",
        "def insert_spaces(text):\n",
        "     modified_text = re.sub(r'(\\d)([A-Za-z])', r'\\1 \\2', text)\n",
        "     return modified_text\n",
        "\n",
        "sample_text = \"RegularExpression1IsAn2ImportantTopic3InPython\"\n",
        "\n",
        "modified_text = insert_spaces(sample_text)\n",
        "\n",
        "print(modified_text)\n"
      ],
      "metadata": {
        "colab": {
          "base_uri": "https://localhost:8080/"
        },
        "id": "Z0VIkvDb0roY",
        "outputId": "e6732d3c-a683-4a6f-b1d3-98ee10aaafc6"
      },
      "execution_count": 35,
      "outputs": [
        {
          "output_type": "stream",
          "name": "stdout",
          "text": [
            "RegularExpression1 IsAn2 ImportantTopic3 InPython\n"
          ]
        }
      ]
    },
    {
      "cell_type": "code",
      "source": [
        "import pandas as pd\n",
        "\n",
        "url = \"https://raw.githubusercontent.com/dsrscientist/DSData/master/happiness_score_dataset.csv\"\n",
        "df = pd.read_csv(url)\n",
        "\n",
        "\n",
        "df['first_five_letters'] = df['Country'].str[:6]\n",
        "\n",
        "print(df.head())\n"
      ],
      "metadata": {
        "colab": {
          "base_uri": "https://localhost:8080/"
        },
        "id": "EiSRzOyz0vjd",
        "outputId": "9dd426a8-7d11-429b-c77c-f989c5ac1f4f"
      },
      "execution_count": 36,
      "outputs": [
        {
          "output_type": "stream",
          "name": "stdout",
          "text": [
            "       Country          Region  Happiness Rank  Happiness Score  \\\n",
            "0  Switzerland  Western Europe               1            7.587   \n",
            "1      Iceland  Western Europe               2            7.561   \n",
            "2      Denmark  Western Europe               3            7.527   \n",
            "3       Norway  Western Europe               4            7.522   \n",
            "4       Canada   North America               5            7.427   \n",
            "\n",
            "   Standard Error  Economy (GDP per Capita)   Family  \\\n",
            "0         0.03411                   1.39651  1.34951   \n",
            "1         0.04884                   1.30232  1.40223   \n",
            "2         0.03328                   1.32548  1.36058   \n",
            "3         0.03880                   1.45900  1.33095   \n",
            "4         0.03553                   1.32629  1.32261   \n",
            "\n",
            "   Health (Life Expectancy)  Freedom  Trust (Government Corruption)  \\\n",
            "0                   0.94143  0.66557                        0.41978   \n",
            "1                   0.94784  0.62877                        0.14145   \n",
            "2                   0.87464  0.64938                        0.48357   \n",
            "3                   0.88521  0.66973                        0.36503   \n",
            "4                   0.90563  0.63297                        0.32957   \n",
            "\n",
            "   Generosity  Dystopia Residual first_five_letters  \n",
            "0     0.29678            2.51738             Switze  \n",
            "1     0.43630            2.70201             Icelan  \n",
            "2     0.34139            2.49204             Denmar  \n",
            "3     0.34699            2.46531             Norway  \n",
            "4     0.45811            2.45176             Canada  \n"
          ]
        }
      ]
    },
    {
      "cell_type": "code",
      "source": [
        "import re\n",
        "def match_string(text):\n",
        "    pattern = re.compile(r'^[a-zA-Z0-9_]+$')\n",
        "    if pattern.match(text):\n",
        "        return True\n",
        "    else:\n",
        "        return False\n",
        "strings = [\"Hello123\", \"Good_Bye\", \"hello_world\", \"12345\", \"Special*Chars\"]\n",
        "for string in strings:\n",
        "    print(f\"{string}: {match_string(string)}\")\n"
      ],
      "metadata": {
        "colab": {
          "base_uri": "https://localhost:8080/"
        },
        "id": "vuqNjqw10yjq",
        "outputId": "902186d1-a67c-4351-998f-b1833c4b85e0"
      },
      "execution_count": 37,
      "outputs": [
        {
          "output_type": "stream",
          "name": "stdout",
          "text": [
            "Hello123: True\n",
            "Good_Bye: True\n",
            "hello_world: True\n",
            "12345: True\n",
            "Special*Chars: False\n"
          ]
        }
      ]
    },
    {
      "cell_type": "code",
      "source": [
        "import re\n",
        "\n",
        "def starts_with_number(string, number):\n",
        "    pattern = re.compile(f'^{number}')\n",
        "    if pattern.match(string):\n",
        "        return True\n",
        "    else:\n",
        "        return False\n",
        "string = \"12345abc\"\n",
        "number = \"123\"\n",
        "print(f\"Does '{string}' start with '{number}'? {starts_with_number(string, number)}\")\n",
        "\n",
        "string = \"abc12345\"\n",
        "number = \"123\"\n",
        "print(f\"Does '{string}' start with '{number}'? {starts_with_number(string, number)}\")\n"
      ],
      "metadata": {
        "colab": {
          "base_uri": "https://localhost:8080/"
        },
        "id": "WYqWdABs01GG",
        "outputId": "23922445-64a2-4923-b3db-c2b0a49b0814"
      },
      "execution_count": 38,
      "outputs": [
        {
          "output_type": "stream",
          "name": "stdout",
          "text": [
            "Does '12345abc' start with '123'? True\n",
            "Does 'abc12345' start with '123'? False\n"
          ]
        }
      ]
    },
    {
      "cell_type": "code",
      "source": [
        "import re\n",
        "\n",
        "def remove_leading_zeros(ip):\n",
        "    octets = ip.split('.')\n",
        "    octets = [re.sub(r'^0+', '', octet) for octet in octets]\n",
        "\n",
        "    modified_ip = '.'.join(octets)\n",
        "\n",
        "    return modified_ip\n",
        "\n",
        "ip_address = \"192.168.001.001\"\n",
        "print(\"Original IP address:\", ip_address)\n",
        "modified_ip = remove_leading_zeros(ip_address)\n",
        "print(\"Modified IP address:\", modified_ip)\n"
      ],
      "metadata": {
        "colab": {
          "base_uri": "https://localhost:8080/"
        },
        "id": "4kCLhWgm03sZ",
        "outputId": "2a67ea7f-7d36-4b3c-f75d-832dfbb9f4b1"
      },
      "execution_count": 39,
      "outputs": [
        {
          "output_type": "stream",
          "name": "stdout",
          "text": [
            "Original IP address: 192.168.001.001\n",
            "Modified IP address: 192.168.1.1\n"
          ]
        }
      ]
    },
    {
      "cell_type": "code",
      "source": [
        "import re\n",
        "\n",
        "# Read text from file\n",
        "with open('match.txt', 'r') as file:\n",
        "    text = file.read()\n",
        "\n",
        "# Regular expression pattern\n",
        "pattern = r'\\b(?:January|February|March|April|May|June|July|August|September|October|November|December)\\s+\\d{1,2}(?:st|nd|rd|th)?\\s+\\d{4}\\b'\n",
        "\n",
        "# Find all matches in the text\n",
        "matches = re.findall(pattern, text)\n",
        "\n",
        "# Print the matches\n",
        "print(matches)\n"
      ],
      "metadata": {
        "colab": {
          "base_uri": "https://localhost:8080/"
        },
        "id": "C3VF-wlA06ZC",
        "outputId": "b919c92d-913f-4384-a850-cc4ccf0a7c4b"
      },
      "execution_count": 40,
      "outputs": [
        {
          "output_type": "stream",
          "name": "stdout",
          "text": [
            "['August 15th 1947']\n"
          ]
        }
      ]
    },
    {
      "cell_type": "markdown",
      "source": [],
      "metadata": {
        "id": "3lOZU6QY07XP"
      }
    },
    {
      "cell_type": "code",
      "source": [
        "def search_words(text, words):\n",
        "    found_words = []\n",
        "    for word in words:\n",
        "        if word in text:\n",
        "            found_words.append(word)\n",
        "    return found_words\n",
        "\n",
        "# Sample text\n",
        "sample_text = 'The quick brown fox jumps over the lazy dog.'\n",
        "\n",
        "# Words to search for\n",
        "searched_words = ['fox', 'dog', 'horse']\n",
        "\n",
        "# Search for the words\n",
        "found_words = search_words(sample_text, searched_words)\n",
        "\n",
        "# Print the found words\n",
        "print(\"Found words:\", found_words)\n"
      ],
      "metadata": {
        "colab": {
          "base_uri": "https://localhost:8080/"
        },
        "id": "ZE_JyW8K07s4",
        "outputId": "19300397-7b04-425a-e1d0-e32eda6c9c76"
      },
      "execution_count": 41,
      "outputs": [
        {
          "output_type": "stream",
          "name": "stdout",
          "text": [
            "Found words: ['fox', 'dog']\n"
          ]
        }
      ]
    },
    {
      "cell_type": "code",
      "source": [
        "def search_word_with_location(text, word):\n",
        "    found_indices = []\n",
        "    index = text.find(word)\n",
        "    while index != -1:\n",
        "        found_indices.append(index)\n",
        "        index = text.find(word, index + 1)\n",
        "    return found_indices\n",
        "\n",
        "# Sample text\n",
        "sample_text = 'The quick brown fox jumps over the lazy dog.'\n",
        "\n",
        "# Word to search for\n",
        "searched_word = 'fox'\n",
        "\n",
        "# Search for the word and find its location\n",
        "found_indices = search_word_with_location(sample_text, searched_word)\n",
        "\n",
        "# Print the found indices\n",
        "if found_indices:\n",
        "    print(f\"The word '{searched_word}' found at index/indices:\", found_indices)\n",
        "else:\n",
        "    print(f\"The word '{searched_word}' not found in the text.\")\n"
      ],
      "metadata": {
        "colab": {
          "base_uri": "https://localhost:8080/"
        },
        "id": "8Osu9jxH1BZk",
        "outputId": "60626094-c8b1-448c-aedf-6dc9190e712a"
      },
      "execution_count": 42,
      "outputs": [
        {
          "output_type": "stream",
          "name": "stdout",
          "text": [
            "The word 'fox' found at index/indices: [16]\n"
          ]
        }
      ]
    },
    {
      "cell_type": "code",
      "source": [
        "import re\n",
        "\n",
        "def find_substrings(text, pattern):\n",
        "    matches = re.findall(pattern, text)\n",
        "    return matches\n",
        "\n",
        "# Sample text\n",
        "sample_text = 'Python exercises, PHP exercises, C# exercises'\n",
        "\n",
        "# Pattern to search for\n",
        "pattern = 'exercises'\n",
        "\n",
        "# Find substrings\n",
        "found_substrings = find_substrings(sample_text, pattern)\n",
        "\n",
        "# Print the found substrings\n",
        "print(\"Found substrings:\", found_substrings)\n"
      ],
      "metadata": {
        "colab": {
          "base_uri": "https://localhost:8080/"
        },
        "id": "zzmIjq9W1Et9",
        "outputId": "42d32098-5700-417c-93ef-e1f9daa2fe0f"
      },
      "execution_count": 43,
      "outputs": [
        {
          "output_type": "stream",
          "name": "stdout",
          "text": [
            "Found substrings: ['exercises', 'exercises', 'exercises']\n"
          ]
        }
      ]
    },
    {
      "cell_type": "code",
      "source": [
        "def find_occurrences_positions(text, substring):\n",
        "    occurrences = [(pos, pos + len(substring)) for pos in range(len(text)) if text.startswith(substring, pos)]\n",
        "    return occurrences\n",
        "\n",
        "# Sample text\n",
        "sample_text = 'Python exercises, PHP exercises, C# exercises'\n",
        "\n",
        "# Substring to search for\n",
        "substring = 'exercises'\n",
        "\n",
        "# Find occurrences and positions\n",
        "occurrences_positions = find_occurrences_positions(sample_text, substring)\n",
        "\n",
        "# Print the occurrences and positions\n",
        "if occurrences_positions:\n",
        "    print(\"Occurrences and Positions of '{}' in the text:\".format(substring))\n",
        "    for i, (start, end) in enumerate(occurrences_positions, start=1):\n",
        "        print(\"Occurrence {}: Start Position: {}, End Position: {}\".format(i, start, end))\n",
        "else:\n",
        "    print(\"Substring '{}' not found in the text.\".format(substring))\n"
      ],
      "metadata": {
        "colab": {
          "base_uri": "https://localhost:8080/"
        },
        "id": "8yit-SW91IjK",
        "outputId": "37c72ba2-8320-41d7-fa2a-2e9040d31bd8"
      },
      "execution_count": 44,
      "outputs": [
        {
          "output_type": "stream",
          "name": "stdout",
          "text": [
            "Occurrences and Positions of 'exercises' in the text:\n",
            "Occurrence 1: Start Position: 7, End Position: 16\n",
            "Occurrence 2: Start Position: 22, End Position: 31\n",
            "Occurrence 3: Start Position: 36, End Position: 45\n"
          ]
        }
      ]
    },
    {
      "cell_type": "code",
      "source": [
        "from datetime import datetime\n",
        "\n",
        "def convert_date_format(date_str):\n",
        "    # Parse the date string\n",
        "    date_obj = datetime.strptime(date_str, '%Y-%m-%d')\n",
        "    # Format the date in dd-mm-yyyy format\n",
        "    formatted_date = date_obj.strftime('%d-%m-%Y')\n",
        "    return formatted_date\n",
        "\n",
        "# Sample date in yyyy-mm-dd format\n",
        "date_str = '2023-04-15'\n",
        "\n",
        "# Convert date format\n",
        "formatted_date = convert_date_format(date_str)\n",
        "\n",
        "# Print the formatted date\n",
        "print(\"Original date (yyyy-mm-dd):\", date_str)\n",
        "print(\"Formatted date (dd-mm-yyyy):\", formatted_date)\n"
      ],
      "metadata": {
        "colab": {
          "base_uri": "https://localhost:8080/"
        },
        "id": "9AZMAqgb1Jzj",
        "outputId": "348ecc09-c1b6-42ce-84e6-561f331303a3"
      },
      "execution_count": 45,
      "outputs": [
        {
          "output_type": "stream",
          "name": "stdout",
          "text": [
            "Original date (yyyy-mm-dd): 2023-04-15\n",
            "Formatted date (dd-mm-yyyy): 15-04-2023\n"
          ]
        }
      ]
    },
    {
      "cell_type": "code",
      "source": [
        "import re\n",
        "\n",
        "def find_decimal_numbers(text):\n",
        "    pattern = re.compile(r'\\b\\d+\\.\\d{1,2}\\b')\n",
        "    decimal_numbers = pattern.findall(text)\n",
        "    return decimal_numbers\n",
        "sample_text = \"01.12 0132.123 2.31875 145.8 3.01 27.25 0.25\"\n",
        "decimal_numbers = find_decimal_numbers(sample_text)\n",
        "print(\"Decimal numbers with precision of 1 or 2:\", decimal_numbers)\n",
        "import re\n",
        "\n",
        "def find_decimal_numbers(text):\n",
        "    pattern = re.compile(r'\\b\\d+\\.\\d{1,2}\\b')\n",
        "    decimal_numbers = pattern.findall(text)\n",
        "    return decimal_numbers\n",
        "\n",
        "sample_text = \"01.12 0132.123 2.31875 145.8 3.01 27.25 0.25\"\n",
        "decimal_numbers = find_decimal_numbers(sample_text)\n",
        "print(\"Decimal numbers with precision of 1 or 2:\", decimal_numbers)\n"
      ],
      "metadata": {
        "colab": {
          "base_uri": "https://localhost:8080/"
        },
        "id": "UW36jHL01PXn",
        "outputId": "abe4142f-b962-4c21-d68d-cefd64fe0222"
      },
      "execution_count": 46,
      "outputs": [
        {
          "output_type": "stream",
          "name": "stdout",
          "text": [
            "Decimal numbers with precision of 1 or 2: ['01.12', '145.8', '3.01', '27.25', '0.25']\n",
            "Decimal numbers with precision of 1 or 2: ['01.12', '145.8', '3.01', '27.25', '0.25']\n"
          ]
        }
      ]
    },
    {
      "cell_type": "code",
      "source": [
        "def print_numbers_and_positions(text):\n",
        "    for index, char in enumerate(text):\n",
        "        if char.isdigit():\n",
        "            print(\"Number:\", char, \"Position:\", index)\n",
        "\n",
        "# Sample text\n",
        "sample_text = \"abc123def456ghi789\"\n",
        "\n",
        "# Print numbers and their positions\n",
        "print_numbers_and_positions(sample_text)\n"
      ],
      "metadata": {
        "colab": {
          "base_uri": "https://localhost:8080/"
        },
        "id": "JKPp5xwJ1R_3",
        "outputId": "d1a62b7d-76dc-46bc-99ab-0bcf9301b852"
      },
      "execution_count": 47,
      "outputs": [
        {
          "output_type": "stream",
          "name": "stdout",
          "text": [
            "Number: 1 Position: 3\n",
            "Number: 2 Position: 4\n",
            "Number: 3 Position: 5\n",
            "Number: 4 Position: 9\n",
            "Number: 5 Position: 10\n",
            "Number: 6 Position: 11\n",
            "Number: 7 Position: 15\n",
            "Number: 8 Position: 16\n",
            "Number: 9 Position: 17\n"
          ]
        }
      ]
    },
    {
      "cell_type": "code",
      "source": [
        "import re\n",
        "\n",
        "def extract_maximum_number(text):\n",
        "    numbers = re.findall(r'\\d+', text)\n",
        "    if numbers:\n",
        "        max_number = max(map(int, numbers))\n",
        "        return max_number\n",
        "    else:\n",
        "        return None\n",
        "\n",
        "# Sample text\n",
        "sample_text = 'My marks in each semester are: 947, 896, 926, 524, 734, 950, 642'\n",
        "\n",
        "# Extract maximum number\n",
        "max_number = extract_maximum_number(sample_text)\n",
        "\n",
        "# Print the maximum number\n",
        "if max_number is not None:\n",
        "    print(\"Maximum number:\", max_number)\n",
        "else:\n",
        "    print(\"No numeric value found in the text.\")\n"
      ],
      "metadata": {
        "colab": {
          "base_uri": "https://localhost:8080/"
        },
        "id": "QMKaq5om1VXc",
        "outputId": "e650a9c9-5edd-499b-f62c-b0f45b6277d9"
      },
      "execution_count": 48,
      "outputs": [
        {
          "output_type": "stream",
          "name": "stdout",
          "text": [
            "Maximum number: 950\n"
          ]
        }
      ]
    },
    {
      "cell_type": "code",
      "source": [
        "import re\n",
        "\n",
        "def insert_spaces(text):\n",
        "    modified_text = re.sub(r'(?<!^)(?=[A-Z])', ' ', text)\n",
        "    return modified_text\n",
        "\n",
        "# Sample text\n",
        "sample_text = \"RegularExpressionIsAnImportantTopicInPython\"\n",
        "\n",
        "# Insert spaces between words starting with capital letters\n",
        "result = insert_spaces(sample_text)\n",
        "\n",
        "# Print the result\n",
        "print(\"Original text:\", sample_text)\n",
        "print(\"Modified text:\", result)\n"
      ],
      "metadata": {
        "colab": {
          "base_uri": "https://localhost:8080/"
        },
        "id": "dbYMLEW_1YH9",
        "outputId": "d25cd9ca-af6d-4c76-e830-45d018193ca0"
      },
      "execution_count": 49,
      "outputs": [
        {
          "output_type": "stream",
          "name": "stdout",
          "text": [
            "Original text: RegularExpressionIsAnImportantTopicInPython\n",
            "Modified text: Regular Expression Is An Important Topic In Python\n"
          ]
        }
      ]
    },
    {
      "cell_type": "code",
      "source": [
        "import re\n",
        "\n",
        "text = \"Hello World! This is a Test. Python is AWesome.\"\n",
        "\n",
        "pattern = re.compile(r'[A-Z][a-z]+')\n",
        "\n",
        "matches = pattern.findall(text)\n",
        "\n",
        "print(matches)\n"
      ],
      "metadata": {
        "colab": {
          "base_uri": "https://localhost:8080/"
        },
        "id": "hh0x9bS11anQ",
        "outputId": "4861340e-b9a3-44b6-8756-e910c569b8c3"
      },
      "execution_count": 50,
      "outputs": [
        {
          "output_type": "stream",
          "name": "stdout",
          "text": [
            "['Hello', 'World', 'This', 'Test', 'Python', 'Wesome']\n"
          ]
        }
      ]
    },
    {
      "cell_type": "code",
      "source": [
        "import re\n",
        "\n",
        "def remove_continuous_duplicates(sentence):\n",
        "    pattern = re.compile(r'\\b(\\w+)(?:\\s+\\1\\b)+', flags=re.IGNORECASE)\n",
        "    cleaned_sentence = pattern.sub(r'\\1', sentence)\n",
        "    return cleaned_sentence\n",
        "\n",
        "# Sample text\n",
        "sample_text = \"Hello hello world world\"\n",
        "\n",
        "# Remove continuous duplicate words\n",
        "cleaned_text = remove_continuous_duplicates(sample_text)\n",
        "\n",
        "# Print the cleaned text\n",
        "print(\"Original text:\", sample_text)\n",
        "print(\"Cleaned text:\", cleaned_text)\n"
      ],
      "metadata": {
        "colab": {
          "base_uri": "https://localhost:8080/"
        },
        "id": "eAB_TUeF1dFz",
        "outputId": "9ed73f89-edeb-4255-d891-bc73aaac2e3a"
      },
      "execution_count": 51,
      "outputs": [
        {
          "output_type": "stream",
          "name": "stdout",
          "text": [
            "Original text: Hello hello world world\n",
            "Cleaned text: Hello world\n"
          ]
        }
      ]
    },
    {
      "cell_type": "code",
      "source": [
        "import re\n",
        "\n",
        "def ends_with_alphanumeric(text):\n",
        "    pattern = re.compile(r'.*\\w$')\n",
        "    if pattern.match(text):\n",
        "        return True\n",
        "    else:\n",
        "        return False\n",
        "test_strings = [\"abc123\", \"Hello123!\", \"python321\", \"123456!\", \"hello world\"]\n",
        "for string in test_strings:\n",
        "    if ends_with_alphanumeric(string):\n",
        "        print(f\"'{string}' ends with an alphanumeric character.\")\n",
        "    else:\n",
        "        print(f\"'{string}' does not end with an alphanumeric character.\")\n"
      ],
      "metadata": {
        "colab": {
          "base_uri": "https://localhost:8080/"
        },
        "id": "J3wO13aA1d6Y",
        "outputId": "9945a71a-68e3-4cbf-c96d-298cd0606807"
      },
      "execution_count": 52,
      "outputs": [
        {
          "output_type": "stream",
          "name": "stdout",
          "text": [
            "'abc123' ends with an alphanumeric character.\n",
            "'Hello123!' does not end with an alphanumeric character.\n",
            "'python321' ends with an alphanumeric character.\n",
            "'123456!' does not end with an alphanumeric character.\n",
            "'hello world' ends with an alphanumeric character.\n"
          ]
        }
      ]
    },
    {
      "cell_type": "code",
      "source": [
        "import re\n",
        "\n",
        "def extract_hashtags(text):\n",
        "    hashtags = re.findall(r'#\\w+', text)\n",
        "    return hashtags\n",
        "sample_text = \"\"\"RT @kapil_kausik: #Doltiwal I mean #xyzabc is \"hurt\" by #Demonetization as the same\n",
        "has rendered USELESS <ed><U+00A0><U+00BD><ed><U+00B1><U+0089> \"acquired funds\" No wo\"\"\"\n",
        "hashtags = extract_hashtags(sample_text)\n",
        "print(\"Extracted hashtags:\", hashtags)\n"
      ],
      "metadata": {
        "colab": {
          "base_uri": "https://localhost:8080/"
        },
        "id": "fCiHzaCK1iBs",
        "outputId": "b2114d9e-ea9d-41de-dd2e-d12ac922047e"
      },
      "execution_count": 53,
      "outputs": [
        {
          "output_type": "stream",
          "name": "stdout",
          "text": [
            "Extracted hashtags: ['#Doltiwal', '#xyzabc', '#Demonetization']\n"
          ]
        }
      ]
    },
    {
      "cell_type": "code",
      "source": [
        "import re\n",
        "\n",
        "def remove_symbols(text):\n",
        "    cleaned_text = re.sub(r'&lt;U\\+\\w+&gt;', '', text)\n",
        "    return cleaned_text\n",
        "sample_text = \"@Jags123456 Bharat band on 28??<ed><U+00A0><U+00BD><ed><U+00B8><U+0082>Those who are protesting #demonetization are all different party leaders\"\n",
        "cleaned_text = remove_symbols(sample_text)\n",
        "print(\"Original text:\", sample_text)\n",
        "print(\"Cleaned text:\", cleaned_text)\n"
      ],
      "metadata": {
        "colab": {
          "base_uri": "https://localhost:8080/"
        },
        "id": "JUezPN2y1jHI",
        "outputId": "42f3ac9b-3733-4591-fd01-3914bb6ff86c"
      },
      "execution_count": 54,
      "outputs": [
        {
          "output_type": "stream",
          "name": "stdout",
          "text": [
            "Original text: @Jags123456 Bharat band on 28??<ed><U+00A0><U+00BD><ed><U+00B8><U+0082>Those who are protesting #demonetization are all different party leaders\n",
            "Cleaned text: @Jags123456 Bharat band on 28??<ed><U+00A0><U+00BD><ed><U+00B8><U+0082>Those who are protesting #demonetization are all different party leaders\n"
          ]
        }
      ]
    },
    {
      "cell_type": "code",
      "source": [
        "import re\n",
        "\n",
        "def extract_dates_from_file(filename):\n",
        "    with open(filename, 'r') as file:\n",
        "        text = file.read()\n",
        "\n",
        "    dates = re.findall(r'\\b\\d{2}-\\d{2}-\\d{4}\\b', text)\n",
        "    return dates\n",
        "\n",
        "# File name containing the sample text\n",
        "filename = 'sample_text.txt'\n",
        "\n",
        "# Extract dates from the text file\n",
        "dates = extract_dates_from_file(filename)\n",
        "\n",
        "# Print the extracted dates\n",
        "print(\"Extracted dates:\", dates)\n"
      ],
      "metadata": {
        "colab": {
          "base_uri": "https://localhost:8080/"
        },
        "id": "5ddc7akm1lsa",
        "outputId": "2181f032-b0ea-48cf-9e1a-36949cdbe996"
      },
      "execution_count": 55,
      "outputs": [
        {
          "output_type": "stream",
          "name": "stdout",
          "text": [
            "Extracted dates: ['12-09-1992', '15-12-1999']\n"
          ]
        }
      ]
    },
    {
      "cell_type": "code",
      "source": [
        "import re\n",
        "\n",
        "def remove_words_of_length_2_to_4(text):\n",
        "    pattern = re.compile(r'\\b\\w{2,4}\\b')\n",
        "    cleaned_text = pattern.sub('', text)\n",
        "    return cleaned_text\n",
        "\n",
        "# Sample text\n",
        "sample_text = \"The following example creates an ArrayList with a capacity of 50 elements. 4 elements are then added to the ArrayList and the ArrayList is trimmed accordingly.\"\n",
        "\n",
        "# Remove words of length between 2 and 4\n",
        "cleaned_text = remove_words_of_length_2_to_4(sample_text)\n",
        "\n",
        "# Print the cleaned text\n",
        "print(\"Original text:\", sample_text)\n",
        "print(\"Cleaned text:\", cleaned_text)\n"
      ],
      "metadata": {
        "colab": {
          "base_uri": "https://localhost:8080/"
        },
        "id": "m1WaIiVf1oNz",
        "outputId": "022fe438-360f-4aec-aed7-3276e3ea903f"
      },
      "execution_count": 56,
      "outputs": [
        {
          "output_type": "stream",
          "name": "stdout",
          "text": [
            "Original text: The following example creates an ArrayList with a capacity of 50 elements. 4 elements are then added to the ArrayList and the ArrayList is trimmed accordingly.\n",
            "Cleaned text:  following example creates  ArrayList  a capacity   elements. 4 elements   added   ArrayList   ArrayList  trimmed accordingly.\n"
          ]
        }
      ]
    }
  ]
}